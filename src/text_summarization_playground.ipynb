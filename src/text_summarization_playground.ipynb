{
  "cells": [
    {
      "cell_type": "markdown",
      "id": "5d15cfaa",
      "metadata": {
        "id": "5d15cfaa"
      },
      "source": [
        "### Summarization using Sentence Weights"
      ]
    },
    {
      "cell_type": "code",
      "execution_count": null,
      "id": "da4691df",
      "metadata": {
        "vscode": {
          "languageId": "python"
        },
        "colab": {
          "base_uri": "https://localhost:8080/"
        },
        "id": "da4691df",
        "outputId": "f4c5de6c-46d8-4798-c4a4-ac26f802d392"
      },
      "outputs": [
        {
          "output_type": "stream",
          "name": "stderr",
          "text": [
            "[nltk_data] Downloading package stopwords to /root/nltk_data...\n",
            "[nltk_data]   Package stopwords is already up-to-date!\n",
            "[nltk_data] Downloading package punkt to /root/nltk_data...\n",
            "[nltk_data]   Package punkt is already up-to-date!\n"
          ]
        },
        {
          "output_type": "execute_result",
          "data": {
            "text/plain": [
              "True"
            ]
          },
          "metadata": {},
          "execution_count": 1
        }
      ],
      "source": [
        "import nltk\n",
        "nltk.download('stopwords')\n",
        "nltk.download('punkt')"
      ]
    },
    {
      "cell_type": "code",
      "execution_count": null,
      "id": "665a6d6e",
      "metadata": {
        "vscode": {
          "languageId": "python"
        },
        "colab": {
          "base_uri": "https://localhost:8080/"
        },
        "id": "665a6d6e",
        "outputId": "453c7a55-2eaa-47c8-ad25-90080eb05fb2"
      },
      "outputs": [
        {
          "output_type": "stream",
          "name": "stderr",
          "text": [
            "[nltk_data] Downloading package wordnet to /root/nltk_data...\n",
            "[nltk_data]   Package wordnet is already up-to-date!\n",
            "[nltk_data] Downloading package omw-1.4 to /root/nltk_data...\n",
            "[nltk_data]   Package omw-1.4 is already up-to-date!\n"
          ]
        }
      ],
      "source": [
        "# import required libraries\n",
        "import pandas as pd\n",
        "import numpy as np\n",
        "from nltk.corpus import stopwords\n",
        "from nltk.stem import PorterStemmer\n",
        "from nltk.tokenize import word_tokenize, sent_tokenize\n",
        "import bs4 as BeautifulSoup\n",
        "import re\n",
        "import urllib.request \n",
        "nltk.download('wordnet')\n",
        "nltk.download('omw-1.4')\n",
        "from nltk.stem.wordnet import WordNetLemmatizer\n",
        "from nltk.corpus import wordnet"
      ]
    },
    {
      "cell_type": "code",
      "source": [
        "import json\n",
        "  \n",
        "# Opening JSON file\n",
        "f = open('/content/class_text.json')\n",
        "  \n",
        "# returns JSON object as \n",
        "# a dictionary\n",
        "data = json.load(f)\n",
        "\n",
        "# Closing file\n",
        "f.close()\n"
      ],
      "metadata": {
        "id": "gPFl1SqwBXTd"
      },
      "id": "gPFl1SqwBXTd",
      "execution_count": null,
      "outputs": []
    },
    {
      "cell_type": "code",
      "source": [
        "wnl = WordNetLemmatizer()\n",
        "\n",
        "\n",
        "def text_clean_preprocess(raw_text : str):\n",
        "    \"\"\"\n",
        "    This function will clean the data and perform certain preprocessing step of stemming/lemmatizing the words in \n",
        "    the tweet. Finally the function will remove stopwords and will only consider with words with a character length\n",
        "    ranging from 2 to 10\n",
        "    \"\"\"\n",
        "    #newString = raw_text.lower() \n",
        "    #newString = BeautifulSoup(newString, \"lxml\").text \n",
        "    text = re.sub(\"[^a-zA-Z]\",\" \", raw_text) \n",
        "    text = re.sub(\"'\",\"\", text)\n",
        "    text = re.sub(\"\\\\d|\\\\W\",\" \", text)\n",
        "    words = text.split()\n",
        "    #meaningful_words = [wnl.lemmatize(w) for w in words if w not in stopwords.words(\"english\") and 2< len(w)<=15]\n",
        "    return \" \".join(words)  "
      ],
      "metadata": {
        "id": "i85b0nPHE5Wa"
      },
      "id": "i85b0nPHE5Wa",
      "execution_count": null,
      "outputs": []
    },
    {
      "cell_type": "code",
      "source": [
        "data['1']"
      ],
      "metadata": {
        "colab": {
          "base_uri": "https://localhost:8080/"
        },
        "id": "4HIqEW1HHasr",
        "outputId": "35f2edff-04d0-4793-d491-a902b6eb50e3"
      },
      "id": "4HIqEW1HHasr",
      "execution_count": null,
      "outputs": [
        {
          "output_type": "execute_result",
          "data": {
            "text/plain": [
              "['\\n\\xa0\\nAdama takes the following precautions with the data it collects from   App Users:\\nData collected from the App is anonymized;\\nSecurity measures have been implemented to protect the data from     unauthorized access;\\nAccess to the data collected from Users is restricted to     authorized personnel; and\\nParties accessing data must agree to confidentiality terms at     least as restrictive as those contained in this privacy policy\\nWhere necessary Adama shall take legal action to protect the     information it collects using the App',\n",
              " '\\n\\xa0Adama recognizes that the precautions it takes with User Data     cannot fully guarantee that malicious third parties will not access     the information used by the App',\n",
              " '\\xa0 Although we perform routine backups of data, you are solely   responsible for all data that you transmit or that relates to any   activity you have undertaken using the App']"
            ]
          },
          "metadata": {},
          "execution_count": 5
        }
      ]
    },
    {
      "cell_type": "code",
      "source": [
        "article = []\n",
        "for line in data['1']:\n",
        "  new_line = text_clean_preprocess(line)\n",
        "  article.append(new_line)\n",
        "\n"
      ],
      "metadata": {
        "id": "RiJnjeOyHEde"
      },
      "id": "RiJnjeOyHEde",
      "execution_count": null,
      "outputs": []
    },
    {
      "cell_type": "code",
      "source": [
        "article"
      ],
      "metadata": {
        "colab": {
          "base_uri": "https://localhost:8080/"
        },
        "id": "4Nc1Q8LZOI61",
        "outputId": "9e38af5e-a81b-4d3c-c578-fdcaa8374743"
      },
      "id": "4Nc1Q8LZOI61",
      "execution_count": null,
      "outputs": [
        {
          "output_type": "execute_result",
          "data": {
            "text/plain": [
              "['Adama takes the following precautions with the data it collects from App Users Data collected from the App is anonymized Security measures have been implemented to protect the data from unauthorized access Access to the data collected from Users is restricted to authorized personnel and Parties accessing data must agree to confidentiality terms at least as restrictive as those contained in this privacy policy Where necessary Adama shall take legal action to protect the information it collects using the App',\n",
              " 'Adama recognizes that the precautions it takes with User Data cannot fully guarantee that malicious third parties will not access the information used by the App',\n",
              " 'Although we perform routine backups of data you are solely responsible for all data that you transmit or that relates to any activity you have undertaken using the App']"
            ]
          },
          "metadata": {},
          "execution_count": 7
        }
      ]
    },
    {
      "cell_type": "code",
      "execution_count": null,
      "id": "4b63ba10",
      "metadata": {
        "vscode": {
          "languageId": "python"
        },
        "id": "4b63ba10"
      },
      "outputs": [],
      "source": [
        "# load data\n",
        "# with open('data/BBC News Summary/News Articles/tech/001.txt') as f1:\n",
        "#     article = f1.read()\n",
        "\n",
        "# with open('data/BBC News Summary/Summaries/tech/001.txt') as f2:\n",
        "#     summary = f2.read()"
      ]
    },
    {
      "cell_type": "code",
      "execution_count": null,
      "id": "98fe7b87",
      "metadata": {
        "vscode": {
          "languageId": "python"
        },
        "id": "98fe7b87"
      },
      "outputs": [],
      "source": [
        "# pre-processing\n",
        "#remove newlines\n",
        "#article = article.replace('\\n', '')"
      ]
    },
    {
      "cell_type": "code",
      "execution_count": null,
      "id": "5eda2549",
      "metadata": {
        "vscode": {
          "languageId": "python"
        },
        "id": "5eda2549"
      },
      "outputs": [],
      "source": [
        "def create_dictionary_table(text_list) -> dict:\n",
        "    text_string = \" \".join(text_list)\n",
        "    \n",
        "    #removing stop words\n",
        "    stop_words = set(stopwords.words(\"english\"))\n",
        "    \n",
        "    words = word_tokenize(text_string)\n",
        "    \n",
        "    #reducing words to their root form\n",
        "    stem = PorterStemmer()\n",
        "    \n",
        "    #creating dictionary for the word frequency table\n",
        "    frequency_table = dict()\n",
        "    for wd in words:\n",
        "        wd = stem.stem(wd)\n",
        "        if wd in stop_words:\n",
        "            continue\n",
        "        if wd in frequency_table:\n",
        "            frequency_table[wd] += 1\n",
        "        else:\n",
        "            frequency_table[wd] = 1\n",
        "\n",
        "    return frequency_table"
      ]
    },
    {
      "cell_type": "code",
      "execution_count": null,
      "id": "ee5fbefc",
      "metadata": {
        "vscode": {
          "languageId": "python"
        },
        "id": "ee5fbefc"
      },
      "outputs": [],
      "source": [
        "def calculate_sentence_scores(sentences, frequency_table) -> dict:   \n",
        "\n",
        "    #algorithm for scoring a sentence by its words\n",
        "    sentence_weight = dict()\n",
        "\n",
        "    for sentence in sentences:\n",
        "        sentence_wordcount = (len(word_tokenize(sentence)))\n",
        "        sentence_wordcount_without_stop_words = 0\n",
        "        for word_weight in frequency_table:\n",
        "            if word_weight in sentence.lower():\n",
        "                sentence_wordcount_without_stop_words += 1\n",
        "                if sentence[:7] in sentence_weight:\n",
        "                    sentence_weight[sentence[:7]] += frequency_table[word_weight]\n",
        "                else:\n",
        "                    sentence_weight[sentence[:7]] = frequency_table[word_weight]\n",
        "\n",
        "        sentence_weight[sentence[:7]] = sentence_weight[sentence[:7]] / sentence_wordcount_without_stop_words\n",
        "\n",
        "    return sentence_weight"
      ]
    },
    {
      "cell_type": "code",
      "execution_count": null,
      "id": "13cb7b6b",
      "metadata": {
        "vscode": {
          "languageId": "python"
        },
        "id": "13cb7b6b"
      },
      "outputs": [],
      "source": [
        "def calculate_average_score(sentence_weight) -> int:\n",
        "   \n",
        "    #calculating the average score for the sentences\n",
        "    sum_values = 0\n",
        "    for entry in sentence_weight:\n",
        "        sum_values += sentence_weight[entry]\n",
        "\n",
        "    #getting sentence average value from source text\n",
        "    average_score = (sum_values / len(sentence_weight))\n",
        "\n",
        "    return average_score"
      ]
    },
    {
      "cell_type": "code",
      "execution_count": null,
      "id": "c6ee11a0",
      "metadata": {
        "vscode": {
          "languageId": "python"
        },
        "id": "c6ee11a0"
      },
      "outputs": [],
      "source": [
        "def get_article_summary(sentences, sentence_weight, threshold):\n",
        "    sentence_counter = 0\n",
        "    article_summary = ''\n",
        "\n",
        "    for sentence in sentences:\n",
        "        if sentence[:7] in sentence_weight and sentence_weight[sentence[:7]] >= (threshold):\n",
        "            article_summary += \" \" + sentence\n",
        "            sentence_counter += 1\n",
        "\n",
        "    return article_summary"
      ]
    },
    {
      "cell_type": "code",
      "execution_count": null,
      "id": "5741a74d",
      "metadata": {
        "vscode": {
          "languageId": "python"
        },
        "id": "5741a74d"
      },
      "outputs": [],
      "source": [
        "#creating a dictionary for the word frequency table\n",
        "frequency_table = create_dictionary_table(article)\n",
        "\n",
        "#tokenizing the sentences\n",
        "#sentences = sent_tokenize(article)\n",
        "\n",
        "sentences = article\n",
        "\n",
        "#algorithm for scoring a sentence by its words\n",
        "sentence_scores = calculate_sentence_scores(sentences, frequency_table)\n",
        "\n",
        "#getting the threshold\n",
        "threshold = calculate_average_score(sentence_scores)\n",
        "\n",
        "#producing the summary\n",
        "article_summary = get_article_summary(sentences, sentence_scores, threshold)"
      ]
    },
    {
      "cell_type": "code",
      "execution_count": null,
      "id": "4e788234",
      "metadata": {
        "vscode": {
          "languageId": "python"
        },
        "colab": {
          "base_uri": "https://localhost:8080/",
          "height": 52
        },
        "id": "4e788234",
        "outputId": "9592f76a-856b-4b50-ceb6-d6830c373cd3"
      },
      "outputs": [
        {
          "output_type": "execute_result",
          "data": {
            "text/plain": [
              "' Adama recognizes that the precautions it takes with User Data cannot fully guarantee that malicious third parties will not access the information used by the App'"
            ],
            "application/vnd.google.colaboratory.intrinsic+json": {
              "type": "string"
            }
          },
          "metadata": {},
          "execution_count": 15
        }
      ],
      "source": [
        "article_summary"
      ]
    },
    {
      "cell_type": "code",
      "execution_count": null,
      "id": "4be15fc7",
      "metadata": {
        "colab": {
          "base_uri": "https://localhost:8080/"
        },
        "id": "4be15fc7",
        "outputId": "83cdb120-155d-46d6-cb24-5beb2e187b62"
      },
      "outputs": [
        {
          "output_type": "execute_result",
          "data": {
            "text/plain": [
              "['Adama takes the following precautions with the data it collects from App Users Data collected from the App is anonymized Security measures have been implemented to protect the data from unauthorized access Access to the data collected from Users is restricted to authorized personnel and Parties accessing data must agree to confidentiality terms at least as restrictive as those contained in this privacy policy Where necessary Adama shall take legal action to protect the information it collects using the App',\n",
              " 'Adama recognizes that the precautions it takes with User Data cannot fully guarantee that malicious third parties will not access the information used by the App',\n",
              " 'Although we perform routine backups of data you are solely responsible for all data that you transmit or that relates to any activity you have undertaken using the App']"
            ]
          },
          "metadata": {},
          "execution_count": 16
        }
      ],
      "source": [
        "article"
      ]
    },
    {
      "cell_type": "markdown",
      "id": "f15a03c6",
      "metadata": {
        "id": "f15a03c6"
      },
      "source": [
        "### Summarization using Graphs"
      ]
    },
    {
      "cell_type": "code",
      "execution_count": null,
      "id": "e180dfc4",
      "metadata": {
        "vscode": {
          "languageId": "python"
        },
        "id": "e180dfc4"
      },
      "outputs": [],
      "source": [
        "# import os\n",
        "# import pandas as pd\n",
        "# path_, filename_, category_, article_or_summary_ = [],[],[],[]\n",
        "# for dirname, _, filenames in os.walk('data\\BBC News Summary'):\n",
        "#     for filename in filenames:\n",
        "#         path_.append(os.path.join(dirname, filename))\n",
        "#         filename_.append(filename)\n",
        "#         category_.append(dirname.split(\"\\\\\")[-1])\n",
        "#         article_or_summary_.append(dirname.split(\"\\\\\")[-2])"
      ]
    },
    {
      "cell_type": "code",
      "execution_count": null,
      "id": "3cf5be02",
      "metadata": {
        "vscode": {
          "languageId": "python"
        },
        "id": "3cf5be02"
      },
      "outputs": [],
      "source": [
        "# df = pd.DataFrame({\"path\":path_, \"filename\":filename_, \"category\":category_, \"article_or_summary\":article_or_summary_}, columns=[\"path\", \"filename\", \"category\", \"article_or_summary\"])\n",
        "# df.head()"
      ]
    },
    {
      "cell_type": "code",
      "source": [
        "pip install plotly_express"
      ],
      "metadata": {
        "colab": {
          "base_uri": "https://localhost:8080/"
        },
        "id": "lSDOsqN_Twmv",
        "outputId": "e7358f10-5859-4165-95d9-08d3f3089544"
      },
      "id": "lSDOsqN_Twmv",
      "execution_count": null,
      "outputs": [
        {
          "output_type": "stream",
          "name": "stdout",
          "text": [
            "Looking in indexes: https://pypi.org/simple, https://us-python.pkg.dev/colab-wheels/public/simple/\n",
            "Collecting plotly_express\n",
            "  Downloading plotly_express-0.4.1-py2.py3-none-any.whl (2.9 kB)\n",
            "Requirement already satisfied: scipy>=0.18 in /usr/local/lib/python3.8/dist-packages (from plotly_express) (1.10.1)\n",
            "Requirement already satisfied: pandas>=0.20.0 in /usr/local/lib/python3.8/dist-packages (from plotly_express) (1.3.5)\n",
            "Requirement already satisfied: numpy>=1.11 in /usr/local/lib/python3.8/dist-packages (from plotly_express) (1.22.4)\n",
            "Requirement already satisfied: plotly>=4.1.0 in /usr/local/lib/python3.8/dist-packages (from plotly_express) (5.5.0)\n",
            "Requirement already satisfied: statsmodels>=0.9.0 in /usr/local/lib/python3.8/dist-packages (from plotly_express) (0.13.5)\n",
            "Requirement already satisfied: patsy>=0.5 in /usr/local/lib/python3.8/dist-packages (from plotly_express) (0.5.3)\n",
            "Requirement already satisfied: pytz>=2017.3 in /usr/local/lib/python3.8/dist-packages (from pandas>=0.20.0->plotly_express) (2022.7.1)\n",
            "Requirement already satisfied: python-dateutil>=2.7.3 in /usr/local/lib/python3.8/dist-packages (from pandas>=0.20.0->plotly_express) (2.8.2)\n",
            "Requirement already satisfied: six in /usr/local/lib/python3.8/dist-packages (from patsy>=0.5->plotly_express) (1.15.0)\n",
            "Requirement already satisfied: tenacity>=6.2.0 in /usr/local/lib/python3.8/dist-packages (from plotly>=4.1.0->plotly_express) (8.2.2)\n",
            "Requirement already satisfied: packaging>=21.3 in /usr/local/lib/python3.8/dist-packages (from statsmodels>=0.9.0->plotly_express) (23.0)\n",
            "Installing collected packages: plotly_express\n",
            "Successfully installed plotly_express-0.4.1\n"
          ]
        }
      ]
    },
    {
      "cell_type": "code",
      "execution_count": null,
      "id": "3377cca7",
      "metadata": {
        "vscode": {
          "languageId": "python"
        },
        "colab": {
          "base_uri": "https://localhost:8080/",
          "height": 17
        },
        "id": "3377cca7",
        "outputId": "dd96f9c4-1611-417b-8ac5-03d2ca7fe1d3"
      },
      "outputs": [
        {
          "output_type": "display_data",
          "data": {
            "text/html": [
              "        <script type=\"text/javascript\">\n",
              "        window.PlotlyConfig = {MathJaxConfig: 'local'};\n",
              "        if (window.MathJax) {MathJax.Hub.Config({SVG: {font: \"STIX-Web\"}});}\n",
              "        if (typeof require !== 'undefined') {\n",
              "        require.undef(\"plotly\");\n",
              "        requirejs.config({\n",
              "            paths: {\n",
              "                'plotly': ['https://cdn.plot.ly/plotly-2.8.3.min']\n",
              "            }\n",
              "        });\n",
              "        require(['plotly'], function(Plotly) {\n",
              "            window._Plotly = Plotly;\n",
              "        });\n",
              "        }\n",
              "        </script>\n",
              "        "
            ]
          },
          "metadata": {}
        }
      ],
      "source": [
        "import plotly_express as pe\n",
        "import cufflinks as cf\n",
        "cf.go_offline()"
      ]
    },
    {
      "cell_type": "code",
      "execution_count": null,
      "id": "a1c58237",
      "metadata": {
        "vscode": {
          "languageId": "python"
        },
        "id": "a1c58237"
      },
      "outputs": [],
      "source": [
        "# from collections import Counter\n",
        "\n",
        "# ct = Counter(df[df['article_or_summary']==\"News Articles\"][\"category\"])\n",
        "# pd.DataFrame({\"category\":ct.keys(), \"value\":ct.values()}).iplot(kind='bar', x='category', y='value')"
      ]
    },
    {
      "cell_type": "code",
      "execution_count": null,
      "id": "e69fc5c7",
      "metadata": {
        "vscode": {
          "languageId": "python"
        },
        "id": "e69fc5c7"
      },
      "outputs": [],
      "source": [
        "# pd.DataFrame({\"category\":ct.keys(), \"value\":ct.values()}).iplot(kind='pie', labels=\"category\", values='value')"
      ]
    },
    {
      "cell_type": "code",
      "execution_count": null,
      "id": "24867ec9",
      "metadata": {
        "vscode": {
          "languageId": "python"
        },
        "id": "24867ec9"
      },
      "outputs": [],
      "source": [
        "import nltk\n",
        "from nltk.corpus import stopwords\n",
        "from nltk.tokenize import sent_tokenize\n",
        "import numpy as np\n",
        "import networkx as nx\n",
        "import re"
      ]
    },
    {
      "cell_type": "code",
      "execution_count": null,
      "id": "e6ef81f5",
      "metadata": {
        "vscode": {
          "languageId": "python"
        },
        "id": "e6ef81f5"
      },
      "outputs": [],
      "source": [
        "# def read_article(text):        \n",
        "#     sentences =[]        \n",
        "#     sentences = sent_tokenize(text)    \n",
        "#     for sentence in sentences:        \n",
        "#         sentence.replace(\"[^a-zA-Z0-9]\",\" \")\n",
        "#         sentence.replace(\"\\n\", \" \")\n",
        "#     return sentences"
      ]
    },
    {
      "cell_type": "code",
      "execution_count": null,
      "id": "a4657625",
      "metadata": {
        "vscode": {
          "languageId": "python"
        },
        "id": "a4657625"
      },
      "outputs": [],
      "source": [
        "# file_path = df[df['article_or_summary']=='News Articles'].iloc[0]['path']\n",
        "# with open(file_path, \"r\") as f:\n",
        "#     article = f.read()"
      ]
    },
    {
      "cell_type": "code",
      "execution_count": null,
      "id": "936c8289",
      "metadata": {
        "vscode": {
          "languageId": "python"
        },
        "id": "936c8289"
      },
      "outputs": [],
      "source": [
        "# sent_tok = read_article(article)"
      ]
    },
    {
      "cell_type": "code",
      "execution_count": null,
      "id": "72787e52",
      "metadata": {
        "vscode": {
          "languageId": "python"
        },
        "id": "72787e52"
      },
      "outputs": [],
      "source": [
        "# spell correction\n",
        "\n",
        "# from textblob import TextBlob\n",
        "# mod_sent = []\n",
        "# for tok in sent_tok:\n",
        "#     blob_obj = TextBlob(tok)\n",
        "#     correct_sent = str(blob_obj.correct())\n",
        "#     print(f\"\\033[94m Original Token : {tok} \\033[0m\")\n",
        "#     print(f\"\\033[92m Corrected Token: {correct_sent} \\033[92m\")\n",
        "#     mod_sent.append(correct_sent)"
      ]
    },
    {
      "cell_type": "code",
      "execution_count": null,
      "id": "c9e56fe3",
      "metadata": {
        "id": "c9e56fe3"
      },
      "outputs": [],
      "source": [
        "sent_tok = article"
      ]
    },
    {
      "cell_type": "code",
      "source": [
        "sent_tok"
      ],
      "metadata": {
        "colab": {
          "base_uri": "https://localhost:8080/"
        },
        "id": "f9e_DWSfRPAI",
        "outputId": "f7dc4e2a-005d-422b-9ce7-6296fd7a4904"
      },
      "id": "f9e_DWSfRPAI",
      "execution_count": null,
      "outputs": [
        {
          "output_type": "execute_result",
          "data": {
            "text/plain": [
              "['Adama takes the following precautions with the data it collects from App Users Data collected from the App is anonymized Security measures have been implemented to protect the data from unauthorized access Access to the data collected from Users is restricted to authorized personnel and Parties accessing data must agree to confidentiality terms at least as restrictive as those contained in this privacy policy Where necessary Adama shall take legal action to protect the information it collects using the App',\n",
              " 'Adama recognizes that the precautions it takes with User Data cannot fully guarantee that malicious third parties will not access the information used by the App',\n",
              " 'Although we perform routine backups of data you are solely responsible for all data that you transmit or that relates to any activity you have undertaken using the App']"
            ]
          },
          "metadata": {},
          "execution_count": 28
        }
      ]
    },
    {
      "cell_type": "code",
      "execution_count": null,
      "id": "79cc2df4",
      "metadata": {
        "vscode": {
          "languageId": "python"
        },
        "id": "79cc2df4"
      },
      "outputs": [],
      "source": [
        "import tensorflow_hub as hub\n",
        "\n",
        "embed = hub.load(\"https://tfhub.dev/google/universal-sentence-encoder/4\")\n",
        "\n",
        "def sentence_similarity(sent1,sent2,embed):  \n",
        "    A = embed([sent1])[0]\n",
        "    B = embed([sent2])[0]\n",
        "    return 1 - (np.dot(A,B)/(np.linalg.norm(A)*np.linalg.norm(B)))"
      ]
    },
    {
      "cell_type": "code",
      "execution_count": null,
      "id": "3ed03d6d",
      "metadata": {
        "vscode": {
          "languageId": "python"
        },
        "colab": {
          "base_uri": "https://localhost:8080/"
        },
        "id": "3ed03d6d",
        "outputId": "84cb5403-5d8d-4db4-c115-1582c5173d05"
      },
      "outputs": [
        {
          "output_type": "stream",
          "name": "stdout",
          "text": [
            "\u001b[92m Sentence 1 : Adama takes the following precautions with the data it collects from App Users Data collected from the App is anonymized Security measures have been implemented to protect the data from unauthorized access Access to the data collected from Users is restricted to authorized personnel and Parties accessing data must agree to confidentiality terms at least as restrictive as those contained in this privacy policy Where necessary Adama shall take legal action to protect the information it collects using the App\n",
            "\u001b[92m Sentence 2 : Adama recognizes that the precautions it takes with User Data cannot fully guarantee that malicious third parties will not access the information used by the App\n",
            "\u001b[92m Similarity Score : 0.4373796582221985\n"
          ]
        }
      ],
      "source": [
        "print(f\"\\033[92m Sentence 1 : {sent_tok[0]}\")\n",
        "print(f\"\\033[92m Sentence 2 : {sent_tok[1]}\")\n",
        "print(f\"\\033[92m Similarity Score : {sentence_similarity(sent_tok[0], sent_tok[1], embed)}\")"
      ]
    },
    {
      "cell_type": "code",
      "execution_count": null,
      "id": "c09a3daf",
      "metadata": {
        "vscode": {
          "languageId": "python"
        },
        "id": "c09a3daf"
      },
      "outputs": [],
      "source": [
        "def build_similarity_matrix(sentences,embeds):\n",
        "    similarity_matrix = np.zeros((len(sentences),len(sentences)))\n",
        "    for idx1 in range(len(sentences)):\n",
        "        for idx2 in range(len(sentences)):\n",
        "            if idx1!=idx2:\n",
        "                similarity_matrix[idx1][idx2] = sentence_similarity(sentences[idx1],sentences[idx2],embeds)\n",
        "    return similarity_matrix"
      ]
    },
    {
      "cell_type": "code",
      "execution_count": null,
      "id": "c87acf52",
      "metadata": {
        "vscode": {
          "languageId": "python"
        },
        "id": "c87acf52"
      },
      "outputs": [],
      "source": [
        "sim_mat = build_similarity_matrix(sent_tok, embed)"
      ]
    },
    {
      "cell_type": "code",
      "source": [
        "sim_mat"
      ],
      "metadata": {
        "colab": {
          "base_uri": "https://localhost:8080/"
        },
        "id": "Srrt5cBIRIZ9",
        "outputId": "dba2ddb5-1737-47d6-ad81-dc5f5c17453e"
      },
      "id": "Srrt5cBIRIZ9",
      "execution_count": null,
      "outputs": [
        {
          "output_type": "execute_result",
          "data": {
            "text/plain": [
              "array([[0.        , 0.43737966, 0.59911197],\n",
              "       [0.43737966, 0.        , 0.54380095],\n",
              "       [0.59911197, 0.54380095, 0.        ]])"
            ]
          },
          "metadata": {},
          "execution_count": 33
        }
      ]
    },
    {
      "cell_type": "code",
      "execution_count": null,
      "id": "f1e7d9ca",
      "metadata": {
        "vscode": {
          "languageId": "python"
        },
        "id": "f1e7d9ca"
      },
      "outputs": [],
      "source": [
        "# from bokeh.io import output_notebook, show, save\n",
        "# from bokeh.models import Range1d, Circle, ColumnDataSource, MultiLine\n",
        "# from bokeh.plotting import figure\n",
        "# from bokeh.plotting import from_networkx\n",
        "# import networkx\n",
        "# from bokeh.io import output_notebook, show, save\n",
        "\n",
        "# output_notebook()\n",
        "\n",
        "# g = nx.Graph()\n",
        "\n",
        "# for i in range(sim_mat.shape[0]):\n",
        "#     for j in range(sim_mat.shape[1]):\n",
        "#         if sim_mat[i][j] >=.9:\n",
        "#             g.add_edge(i, j)\n",
        "\n",
        "# HOVER_TOOLTIPS = [(\"sent_tok\", \"@index\")]\n",
        "# plot = figure(tooltips = HOVER_TOOLTIPS, tools=\"pan,wheel_zoom,save,reset\", active_scroll='wheel_zoom',x_range=Range1d(-10.1, 10.1), y_range=Range1d(-10.1, 10.1))\n",
        "\n",
        "# network_graph = from_networkx(g, networkx.spring_layout, scale=7, center=(0, 0))\n",
        "# network_graph.node_renderer.glyph = Circle(size=15,fill_color='green')\n",
        "# network_graph.edge_renderer.glyph = MultiLine(line_alpha=0.5, line_width=1)\n",
        "# plot.renderers.append(network_graph)\n",
        "# show(plot)"
      ]
    },
    {
      "cell_type": "code",
      "execution_count": null,
      "id": "f35b4cf9",
      "metadata": {
        "vscode": {
          "languageId": "python"
        },
        "colab": {
          "base_uri": "https://localhost:8080/",
          "height": 235
        },
        "id": "f35b4cf9",
        "outputId": "0dcff7c5-9b23-42a9-ac58-bd4da9ae9988"
      },
      "outputs": [
        {
          "output_type": "error",
          "ename": "NameError",
          "evalue": "ignored",
          "traceback": [
            "\u001b[0;31m---------------------------------------------------------------------------\u001b[0m",
            "\u001b[0;31mNameError\u001b[0m                                 Traceback (most recent call last)",
            "\u001b[0;32m<ipython-input-35-44904061bafa>\u001b[0m in \u001b[0;36m<module>\u001b[0;34m\u001b[0m\n\u001b[1;32m      1\u001b[0m \u001b[0;31m# summarization\u001b[0m\u001b[0;34m\u001b[0m\u001b[0;34m\u001b[0m\u001b[0;34m\u001b[0m\u001b[0m\n\u001b[1;32m      2\u001b[0m \u001b[0;34m\u001b[0m\u001b[0m\n\u001b[0;32m----> 3\u001b[0;31m \u001b[0mfile_path_summary\u001b[0m \u001b[0;34m=\u001b[0m \u001b[0mdf\u001b[0m\u001b[0;34m[\u001b[0m\u001b[0mdf\u001b[0m\u001b[0;34m[\u001b[0m\u001b[0;34m'article_or_summary'\u001b[0m\u001b[0;34m]\u001b[0m\u001b[0;34m==\u001b[0m\u001b[0;34m'Summaries'\u001b[0m\u001b[0;34m]\u001b[0m\u001b[0;34m.\u001b[0m\u001b[0miloc\u001b[0m\u001b[0;34m[\u001b[0m\u001b[0;36m0\u001b[0m\u001b[0;34m]\u001b[0m\u001b[0;34m[\u001b[0m\u001b[0;34m'path'\u001b[0m\u001b[0;34m]\u001b[0m\u001b[0;34m\u001b[0m\u001b[0;34m\u001b[0m\u001b[0m\n\u001b[0m\u001b[1;32m      4\u001b[0m \u001b[0;32mwith\u001b[0m \u001b[0mopen\u001b[0m\u001b[0;34m(\u001b[0m\u001b[0mfile_path_summary\u001b[0m\u001b[0;34m,\u001b[0m \u001b[0;34m\"r\"\u001b[0m\u001b[0;34m)\u001b[0m \u001b[0;32mas\u001b[0m \u001b[0mf\u001b[0m\u001b[0;34m:\u001b[0m\u001b[0;34m\u001b[0m\u001b[0;34m\u001b[0m\u001b[0m\n\u001b[1;32m      5\u001b[0m     \u001b[0mactual_summary\u001b[0m \u001b[0;34m=\u001b[0m \u001b[0mf\u001b[0m\u001b[0;34m.\u001b[0m\u001b[0mread\u001b[0m\u001b[0;34m(\u001b[0m\u001b[0;34m)\u001b[0m\u001b[0;34m\u001b[0m\u001b[0;34m\u001b[0m\u001b[0m\n",
            "\u001b[0;31mNameError\u001b[0m: name 'df' is not defined"
          ]
        }
      ],
      "source": [
        "# # summarization\n",
        "\n",
        "# file_path_summary = df[df['article_or_summary']=='Summaries'].iloc[0]['path']\n",
        "# with open(file_path_summary, \"r\") as f:\n",
        "#     actual_summary = f.read()"
      ]
    },
    {
      "cell_type": "code",
      "execution_count": null,
      "id": "402c9fe5",
      "metadata": {
        "vscode": {
          "languageId": "python"
        },
        "id": "402c9fe5"
      },
      "outputs": [],
      "source": [
        "def generate_summary(text,top_n,embeds):\n",
        "    summarize_text = []  \n",
        "    #sentences = read_article(text) \n",
        "    sentences = text    \n",
        "    print(sentences)      \n",
        "    sentence_similarity_matrix = build_similarity_matrix(sentences,embeds)  \n",
        "    sentence_similarity_graph = nx.from_numpy_array(sentence_similarity_matrix)\n",
        "    scores = nx.pagerank(sentence_similarity_graph) \n",
        "    ranked_sentences = sorted(((scores[i],s) for i,s in enumerate(sentences)),reverse=True)\n",
        "    for i in range(top_n):\n",
        "        summarize_text.append(ranked_sentences[i][1]) \n",
        "    return \" \".join(summarize_text)"
      ]
    },
    {
      "cell_type": "code",
      "execution_count": null,
      "id": "50569c25",
      "metadata": {
        "vscode": {
          "languageId": "python"
        },
        "colab": {
          "base_uri": "https://localhost:8080/"
        },
        "id": "50569c25",
        "outputId": "403ffa05-a418-4676-c499-495f24274ca7"
      },
      "outputs": [
        {
          "output_type": "stream",
          "name": "stdout",
          "text": [
            "['Adama takes the following precautions with the data it collects from App Users Data collected from the App is anonymized Security measures have been implemented to protect the data from unauthorized access Access to the data collected from Users is restricted to authorized personnel and Parties accessing data must agree to confidentiality terms at least as restrictive as those contained in this privacy policy Where necessary Adama shall take legal action to protect the information it collects using the App', 'Adama recognizes that the precautions it takes with User Data cannot fully guarantee that malicious third parties will not access the information used by the App', 'Although we perform routine backups of data you are solely responsible for all data that you transmit or that relates to any activity you have undertaken using the App']\n"
          ]
        }
      ],
      "source": [
        "Original_Text = \" \".join(article)\n",
        "Summarized_Text = generate_summary(article, top_n=2, embeds=embed)"
      ]
    },
    {
      "cell_type": "code",
      "execution_count": null,
      "id": "cac2e2fa",
      "metadata": {
        "vscode": {
          "languageId": "python"
        },
        "colab": {
          "base_uri": "https://localhost:8080/",
          "height": 122
        },
        "id": "cac2e2fa",
        "outputId": "354dd338-8cce-40aa-ab3b-fa99d686580d"
      },
      "outputs": [
        {
          "output_type": "execute_result",
          "data": {
            "text/plain": [
              "'Adama takes the following precautions with the data it collects from App Users Data collected from the App is anonymized Security measures have been implemented to protect the data from unauthorized access Access to the data collected from Users is restricted to authorized personnel and Parties accessing data must agree to confidentiality terms at least as restrictive as those contained in this privacy policy Where necessary Adama shall take legal action to protect the information it collects using the App Adama recognizes that the precautions it takes with User Data cannot fully guarantee that malicious third parties will not access the information used by the App Although we perform routine backups of data you are solely responsible for all data that you transmit or that relates to any activity you have undertaken using the App'"
            ],
            "application/vnd.google.colaboratory.intrinsic+json": {
              "type": "string"
            }
          },
          "metadata": {},
          "execution_count": 41
        }
      ],
      "source": [
        "Original_Text"
      ]
    },
    {
      "cell_type": "code",
      "execution_count": null,
      "id": "42b9ef0e",
      "metadata": {
        "vscode": {
          "languageId": "python"
        },
        "colab": {
          "base_uri": "https://localhost:8080/",
          "height": 104
        },
        "id": "42b9ef0e",
        "outputId": "333fd7c8-32ac-4ea8-85c4-9f5823c7879c"
      },
      "outputs": [
        {
          "output_type": "execute_result",
          "data": {
            "text/plain": [
              "'Although we perform routine backups of data you are solely responsible for all data that you transmit or that relates to any activity you have undertaken using the App Adama takes the following precautions with the data it collects from App Users Data collected from the App is anonymized Security measures have been implemented to protect the data from unauthorized access Access to the data collected from Users is restricted to authorized personnel and Parties accessing data must agree to confidentiality terms at least as restrictive as those contained in this privacy policy Where necessary Adama shall take legal action to protect the information it collects using the App'"
            ],
            "application/vnd.google.colaboratory.intrinsic+json": {
              "type": "string"
            }
          },
          "metadata": {},
          "execution_count": 42
        }
      ],
      "source": [
        "Summarized_Text"
      ]
    },
    {
      "cell_type": "code",
      "execution_count": null,
      "id": "f11c47f8",
      "metadata": {
        "vscode": {
          "languageId": "python"
        },
        "id": "f11c47f8"
      },
      "outputs": [],
      "source": [
        "# actual_summary"
      ]
    },
    {
      "cell_type": "code",
      "execution_count": null,
      "id": "6e1047f1",
      "metadata": {
        "vscode": {
          "languageId": "python"
        },
        "id": "6e1047f1"
      },
      "outputs": [],
      "source": [
        "# import nltk\n",
        "\n",
        "# hypothesis = Summarized_Text\n",
        "# reference = actual_summary\n",
        "# BLEUscore = nltk.translate.bleu_score.sentence_bleu([reference], hypothesis)\n",
        "# print(f\"BLEUscore : {BLEUscore}\")"
      ]
    }
  ],
  "metadata": {
    "kernelspec": {
      "display_name": "Python 3 (ipykernel)",
      "language": "python",
      "name": "python3"
    },
    "language_info": {
      "codemirror_mode": {
        "name": "ipython",
        "version": 3
      },
      "file_extension": ".py",
      "mimetype": "text/x-python",
      "name": "python",
      "nbconvert_exporter": "python",
      "pygments_lexer": "ipython3",
      "version": "3.9.7"
    },
    "colab": {
      "provenance": []
    }
  },
  "nbformat": 4,
  "nbformat_minor": 5
}