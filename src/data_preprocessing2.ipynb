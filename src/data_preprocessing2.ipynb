{
 "cells": [
  {
   "cell_type": "code",
   "execution_count": 25,
   "metadata": {},
   "outputs": [],
   "source": [
    "# import required libraries\n",
    "import pandas as pd\n",
    "import numpy as np\n",
    "import os\n",
    "import pickle\n"
   ]
  },
  {
   "cell_type": "code",
   "execution_count": 23,
   "metadata": {},
   "outputs": [],
   "source": [
    "# loading data\n",
    "\n",
    "article_path = r\"F:\\MSIM\\Sem 4\\IS 557 Applied ML\\Privacy-Policy-Summarization\\BBC News Summary\\News Articles\"\n",
    "article_folder = os.listdir(article_path)\n",
    "\n",
    "summary_path = r\"F:\\MSIM\\Sem 4\\IS 557 Applied ML\\Privacy-Policy-Summarization\\BBC News Summary\\Summaries\"\n",
    "summary_folder = os.listdir(summary_path)\n",
    "\n",
    "bbc_data = pd.DataFrame(columns=[\"article\", \"summary\"])\n",
    "\n",
    "article_list = []\n",
    "summary_list = []\n",
    "\n",
    "for folder in article_folder:\n",
    "    article_file = os.listdir(article_path + \"\\\\\" + folder)\n",
    "    for file in article_file:\n",
    "        with open(article_path + \"\\\\\" + folder + \"\\\\\" + file, \"r\", encoding=\"ISO8859\") as f:\n",
    "            data = f.read()\n",
    "            data = data.replace(\"\\n\", \" \")\n",
    "            article_list.append(data)\n",
    "            \n",
    "            \n",
    "for folder in summary_folder:\n",
    "    summary_file = os.listdir(summary_path + \"\\\\\" + folder)\n",
    "    for file in summary_file:\n",
    "        with open(summary_path + \"\\\\\" + folder + \"\\\\\" + file, \"r\", encoding=\"ISO8859\") as f:\n",
    "            data = f.read()\n",
    "            data = data.replace(\"\\n\", \" \")\n",
    "            summary_list.append(data)\n",
    "            \n",
    "bbc_data[\"article\"] = article_list\n",
    "bbc_data[\"summary\"] = summary_list"
   ]
  },
  {
   "cell_type": "code",
   "execution_count": 26,
   "metadata": {},
   "outputs": [],
   "source": [
    "bbc_data.to_pickle(\"bbc_data.pkl\")"
   ]
  }
 ],
 "metadata": {
  "kernelspec": {
   "display_name": "Python 3",
   "language": "python",
   "name": "python3"
  },
  "language_info": {
   "codemirror_mode": {
    "name": "ipython",
    "version": 3
   },
   "file_extension": ".py",
   "mimetype": "text/x-python",
   "name": "python",
   "nbconvert_exporter": "python",
   "pygments_lexer": "ipython3",
   "version": "3.10.10"
  },
  "orig_nbformat": 4
 },
 "nbformat": 4,
 "nbformat_minor": 2
}
